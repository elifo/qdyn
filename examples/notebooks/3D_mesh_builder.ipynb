{
 "cells": [
  {
   "cell_type": "code",
   "execution_count": null,
   "metadata": {},
   "outputs": [],
   "source": []
  }
 ],
 "metadata": {
  "kernelspec": {
   "display_name": "Python 3.7.13 ('qdyn_test')",
   "language": "python",
   "name": "python3"
  },
  "language_info": {
   "name": "python",
   "version": "3.7.13"
  },
  "orig_nbformat": 4,
  "vscode": {
   "interpreter": {
    "hash": "3595c4ee6b1a0fc7d849f71b7fbb31683290ef932d708e0c2b72125731b37c05"
   }
  }
 },
 "nbformat": 4,
 "nbformat_minor": 2
}
